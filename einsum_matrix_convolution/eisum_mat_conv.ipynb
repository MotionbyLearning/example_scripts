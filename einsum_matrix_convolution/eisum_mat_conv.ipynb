{
 "cells": [
  {
   "cell_type": "markdown",
   "id": "2857ddd9",
   "metadata": {},
   "source": [
    "# Using `einsum` for matrix multiplication and convolution\n",
    "\n",
    "In this notebook, examples are provided to demonstrate how to use `numpy.einsum` for efficient matrix multiplication and convolution operations. \n",
    "\n",
    "This method aims to replace the nested loops in[ VCE (Variance Component Estimation)](https://github.com/TUDelftGeodesy/DePSI/blob/stable/main/ps_vce.m) step in DePSI."
   ]
  },
  {
   "cell_type": "code",
   "execution_count": null,
   "id": "c468bca2",
   "metadata": {},
   "outputs": [],
   "source": [
    "import numpy as np"
   ]
  },
  {
   "cell_type": "markdown",
   "id": "5e268975",
   "metadata": {},
   "source": [
    "## Compute QPQy1QP and N\n",
    "\n",
    "The following code is equivalent to this nested loop:\n",
    "```python\n",
    "    QPQy1QP = np.full((Nifgs, Nifgs, Nsig), np.nan)\n",
    "    for k in range(Nsig):\n",
    "        QPQy1QP[:, :, k] = QP @ Qy1[:, :, k] @ QP\n",
    "        for j in range(Nsig):\n",
    "            N[k, j] = np.trace(QPQy1QP[:, :, k] @ Qy1[:, :, j])\n",
    "```"
   ]
  },
  {
   "cell_type": "code",
   "execution_count": null,
   "id": "689f5570",
   "metadata": {},
   "outputs": [],
   "source": [
    "# We randomly generate the data to verify the correctness of the einsum method.\n",
    "Nsig = 150 # Number of sigmas, equal to Nifgs or Nifgs+1\n",
    "Nifgs = 150 # Number of interferograms\n",
    "rng = np.random.default_rng(44)\n",
    "Qy1 = rng.random((Nifgs, Nifgs, Nsig))\n",
    "QP = rng.random((Nifgs, Nifgs))"
   ]
  },
  {
   "cell_type": "code",
   "execution_count": null,
   "id": "e73160d4",
   "metadata": {},
   "outputs": [],
   "source": [
    "%%time\n",
    "# Einsum method\n",
    "QPQy1QP = np.einsum('ij,jlk,lm ->imk', QP, Qy1, QP, optimize=True)\n",
    "N = np.einsum('abk,baj->kj', QPQy1QP, Qy1, optimize=True)"
   ]
  },
  {
   "cell_type": "code",
   "execution_count": null,
   "id": "f433e833",
   "metadata": {},
   "outputs": [],
   "source": [
    "%%time\n",
    "# Original nested loop method\n",
    "# For >400 epochs, this does not finish within 5mins\n",
    "# For 150 epochs, this takes ~3mins\n",
    "QPQy1QP2 = np.full((Nifgs, Nifgs, Nsig), np.nan)\n",
    "N2 = np.full((Nsig, Nsig), np.nan)\n",
    "for k in range(Nsig):\n",
    "    QPQy1QP2[:, :, k] = QP @ Qy1[:, :, k] @ QP\n",
    "    for j in range(Nsig):\n",
    "        N2[k, j] = np.trace(QPQy1QP2[:, :, k] @ Qy1[:, :, j])"
   ]
  },
  {
   "cell_type": "code",
   "execution_count": null,
   "id": "1d700c09",
   "metadata": {},
   "outputs": [],
   "source": [
    "# Intermediate matrix and results should match\n",
    "print(np.allclose(QPQy1QP, QPQy1QP2))\n",
    "print(np.allclose(N, N2))"
   ]
  },
  {
   "cell_type": "markdown",
   "id": "63a2024d",
   "metadata": {},
   "source": [
    "## Compute sig2\n",
    "\n",
    "For `sig2` the efficiency of the einsum method depends on Narcs_vce x Nsig. With 352 independent arcs, only when Nsig is >350 the einsum method shows a significant speedup compared to the nested loop method. When <200 arcsm, nested loops usually takes 0.7 second, while einsum takes 1 second.\n",
    "\n",
    "However we still recommend using the einsum method since its performance is more consistent, and the efficiency loss in small number of Nsig is not significant."
   ]
  },
  {
   "cell_type": "code",
   "execution_count": null,
   "id": "9be178fe",
   "metadata": {},
   "outputs": [],
   "source": [
    "Ninv = np.linalg.inv(N)"
   ]
  },
  {
   "cell_type": "code",
   "execution_count": null,
   "id": "bdad5dc1",
   "metadata": {},
   "outputs": [],
   "source": [
    "Narcs_vce = 352\n",
    "# Narcs_vce = 17152 # larger number of arcs for testing\n",
    "rng = np.random.default_rng(41)\n",
    "phase_unwrapped = rng.random((Narcs_vce, Nifgs))"
   ]
  },
  {
   "cell_type": "code",
   "execution_count": null,
   "id": "4cd9c572",
   "metadata": {},
   "outputs": [],
   "source": [
    "%%time\n",
    "# Nested loops method\n",
    "# For 400 epochs and 352 arcs, this takes ~4 seconds\n",
    "sig2 = np.full((Nsig, Narcs_vce), np.nan)\n",
    "l = np.full((Nsig, 1), np.nan)\n",
    "for v in range(Narcs_vce):\n",
    "    y = phase_unwrapped[v, :].reshape(-1, 1)\n",
    "    for k in range(Nsig):\n",
    "        l[k, 0] = (y.T @ QPQy1QP[:, :, k] @ y).squeeze()\n",
    "    sig2[:, v] = (Ninv @ l).flatten()"
   ]
  },
  {
   "cell_type": "code",
   "execution_count": null,
   "id": "f8c21181",
   "metadata": {},
   "outputs": [],
   "source": [
    "%%time\n",
    "# Compute all l in one go, then perform the matrix multiplication\n",
    "# This is an intermediate step to reach the einsum method\n",
    "sig22 = np.full((Nsig, Narcs_vce), np.nan)\n",
    "l2 = np.full((Nsig, Narcs_vce), np.nan)\n",
    "for v in range(Narcs_vce):\n",
    "    y = phase_unwrapped[v, :].reshape(-1, 1)\n",
    "    for k in range(Nsig):\n",
    "        l2[k, v] = (y.T @ QPQy1QP[:, :, k] @ y).squeeze()\n",
    "\n",
    "sig22 = Ninv @ l2"
   ]
  },
  {
   "cell_type": "code",
   "execution_count": null,
   "id": "16b64f36",
   "metadata": {},
   "outputs": [],
   "source": [
    "%%time\n",
    "# Compute using einsum\n",
    "l3 = np.einsum('ij,jmk,mi -> ki', phase_unwrapped, QPQy1QP, phase_unwrapped.T, optimize='optimal')\n",
    "sig23 = Ninv @ l3"
   ]
  },
  {
   "cell_type": "code",
   "execution_count": null,
   "id": "2d5b5941",
   "metadata": {},
   "outputs": [],
   "source": [
    "print(np.allclose(l3, l2)) # the l vectors should match\n",
    "print(np.allclose(sig2, sig22))  # Check the shapes of the results\n",
    "print(np.allclose(sig2, sig23))  # Check if the results are the same"
   ]
  }
 ],
 "metadata": {
  "kernelspec": {
   "display_name": "depsi-dev",
   "language": "python",
   "name": "python3"
  },
  "language_info": {
   "codemirror_mode": {
    "name": "ipython",
    "version": 3
   },
   "file_extension": ".py",
   "mimetype": "text/x-python",
   "name": "python",
   "nbconvert_exporter": "python",
   "pygments_lexer": "ipython3",
   "version": "3.12.8"
  }
 },
 "nbformat": 4,
 "nbformat_minor": 5
}
