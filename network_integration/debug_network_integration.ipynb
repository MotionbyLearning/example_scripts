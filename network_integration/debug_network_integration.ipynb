{
 "cells": [
  {
   "cell_type": "code",
   "execution_count": null,
   "id": "dd6fc4e8",
   "metadata": {},
   "outputs": [],
   "source": [
    "import xarray as xr\n",
    "import numpy as np\n",
    "import scipy\n",
    "from scipy import stats\n",
    "from scipy.stats import chi2, ncx2\n",
    "from matplotlib import pyplot as plt\n",
    "# import matplotlib.cm as cm\n",
    "import matplotlib.colors as plc\n",
    "\n",
    "from depsi.network import form_network, arc_selection, remove_isolated_stm, _network_relation_matrix\n",
    "from depsi.arc_estimation import periodogram\n",
    "from depsi.mht_utils import pretest\n",
    "\n",
    "# import dask\n",
    "# dask.config.set(scheduler='processes')"
   ]
  },
  {
   "cell_type": "code",
   "execution_count": null,
   "id": "c7feea40",
   "metadata": {},
   "outputs": [],
   "source": [
    "WAVELENGTH = 0.055465763  # Sentinel-1, in meters"
   ]
  },
  {
   "cell_type": "code",
   "execution_count": null,
   "id": "4326047c",
   "metadata": {},
   "outputs": [],
   "source": [
    "# Load all to memory\n",
    "stm = xr.open_zarr('../../data/stm_amsterdam_173p.zarr')\n",
    "\n",
    "# Remove the mother epoch\n",
    "idx_non_mother = np.squeeze(np.where(stm['h2ph_values'].mean(axis=0).values != 0)) # Mother image is with all h2ph values as 0\n",
    "stm = stm.isel(time = idx_non_mother)\n",
    "\n",
    "# For debugging, shorten the time series\n",
    "stm = stm.isel(time=slice(0, 30))\n",
    "stm"
   ]
  },
  {
   "cell_type": "code",
   "execution_count": null,
   "id": "8cef92e3",
   "metadata": {},
   "outputs": [],
   "source": [
    "stm_arcs = form_network(stm, 'sd_phase', 'h2ph_values', 'years', max_length=0.001)\n",
    "stm_arcs"
   ]
  },
  {
   "cell_type": "code",
   "execution_count": null,
   "id": "b8df082b",
   "metadata": {},
   "outputs": [],
   "source": [
    "# x of sources and targets\n",
    "xx = np.stack([stm.isel(space = stm_arcs['source'])['lon'].values,\n",
    "               stm.isel(space = stm_arcs['target'])['lon'].values]).T\n",
    "# y of sources and targets\n",
    "yy = np.stack([stm.isel(space = stm_arcs['source'])['lat'].values,\n",
    "               stm.isel(space = stm_arcs['target'])['lat'].values]).T\n",
    "# Visualize created arcs\n",
    "fig, ax = plt.subplots()\n",
    "for i in range(stm_arcs.sizes[\"space\"]):\n",
    "    ax.plot(xx[i], yy[i], color='b', linewidth=0.5)"
   ]
  },
  {
   "cell_type": "code",
   "execution_count": null,
   "id": "2050dfdc",
   "metadata": {},
   "outputs": [],
   "source": [
    "phs_obs_unwrapped, ambigs, arc_height, arc_velo, ens_coh = periodogram(\n",
    "    stm_arcs,\n",
    "    \"d_phase\",\n",
    "    \"h2ph\",\n",
    "    \"Btemp\",\n",
    "    wavelength=WAVELENGTH,\n",
    ")\n",
    "\n",
    "stm_arcs[\"phs_obs_unwrapped\"] = phs_obs_unwrapped\n",
    "stm_arcs[\"ambigs\"] = ambigs\n",
    "stm_arcs[\"arc_height\"] = arc_height\n",
    "stm_arcs[\"arc_velo\"] = arc_velo\n",
    "stm_arcs[\"ens_coh\"] = ens_coh\n",
    "\n",
    "stm_arcs = stm_arcs.compute()\n",
    "stm_arcs"
   ]
  },
  {
   "cell_type": "code",
   "execution_count": null,
   "id": "ba338e85",
   "metadata": {},
   "outputs": [],
   "source": [
    "# x of sources and targets\n",
    "xx = np.stack([stm.isel(space = stm_arcs['source'])['lon'].values,\n",
    "               stm.isel(space = stm_arcs['target'])['lon'].values]).T\n",
    "# y of sources and targets\n",
    "yy = np.stack([stm.isel(space = stm_arcs['source'])['lat'].values,\n",
    "               stm.isel(space = stm_arcs['target'])['lat'].values]).T\n",
    "# Visualize created arcs\n",
    "fig, ax = plt.subplots()\n",
    "cmap = plt.cm.rainbow\n",
    "norm = plc.Normalize(vmin=0, vmax=1.0)\n",
    "mean_nmad = np.abs(stm_arcs['ens_coh'].data)\n",
    "for i in range(stm_arcs.sizes[\"space\"]):\n",
    "    ax.plot(xx[i], yy[i], color=cmap(norm(mean_nmad[i])), linewidth=0.5)\n",
    "plt.title(\"Network STM arcs, colored by ens_coh\")\n",
    "plt.colorbar(plt.cm.ScalarMappable(norm=norm, cmap=cmap), ax=ax, label='ens_coh')"
   ]
  },
  {
   "cell_type": "code",
   "execution_count": null,
   "id": "3203c003",
   "metadata": {},
   "outputs": [],
   "source": [
    "# select arcs with ens_coh > 0.5\n",
    "stm_arcs_selected = arc_selection(stm_arcs, 0.75, 'ens_coh', 3)"
   ]
  },
  {
   "cell_type": "code",
   "execution_count": null,
   "id": "6b89adf5",
   "metadata": {},
   "outputs": [],
   "source": [
    "# x of sources and targets\n",
    "xx = np.stack([stm.isel(space = stm_arcs_selected['source'])['lon'].values,\n",
    "               stm.isel(space = stm_arcs_selected['target'])['lon'].values]).T\n",
    "# y of sources and targets\n",
    "yy = np.stack([stm.isel(space = stm_arcs_selected['source'])['lat'].values,\n",
    "               stm.isel(space = stm_arcs_selected['target'])['lat'].values]).T\n",
    "# Visualize created arcs\n",
    "fig, ax = plt.subplots()\n",
    "cmap = plt.cm.rainbow\n",
    "norm = plc.Normalize(vmin=0, vmax=1.0)\n",
    "mean_nmad = np.abs(stm_arcs_selected['ens_coh'].data)\n",
    "for i in range(stm_arcs_selected.sizes[\"space\"]):\n",
    "    ax.plot(xx[i], yy[i], color=cmap(norm(mean_nmad[i])), linewidth=0.5)\n",
    "plt.title(\"Network STM arcs, colored by ens_coh\")\n",
    "plt.colorbar(plt.cm.ScalarMappable(norm=norm, cmap=cmap), ax=ax, label='ens_coh')"
   ]
  },
  {
   "cell_type": "code",
   "execution_count": null,
   "id": "6eced8e8",
   "metadata": {},
   "outputs": [],
   "source": [
    "# Update the STM and selected arcs\n",
    "# Remove isolated STM\n",
    "# Update indices\n",
    "stm_updated, stm_arcs_selected = remove_isolated_stm(stm, stm_arcs_selected)"
   ]
  },
  {
   "cell_type": "code",
   "execution_count": null,
   "id": "39bc8961",
   "metadata": {},
   "outputs": [],
   "source": [
    "stm_updated"
   ]
  },
  {
   "cell_type": "code",
   "execution_count": null,
   "id": "4d0bdb9f",
   "metadata": {},
   "outputs": [],
   "source": [
    "stm_arcs_selected"
   ]
  },
  {
   "cell_type": "code",
   "execution_count": null,
   "id": "54292bb9",
   "metadata": {},
   "outputs": [],
   "source": [
    "# x of sources and targets\n",
    "xx = np.stack([stm_updated.isel(space = stm_arcs_selected['source'])['lon'].values,\n",
    "               stm_updated.isel(space = stm_arcs_selected['target'])['lon'].values]).T\n",
    "# y of sources and targets\n",
    "yy = np.stack([stm_updated.isel(space = stm_arcs_selected['source'])['lat'].values,\n",
    "               stm_updated.isel(space = stm_arcs_selected['target'])['lat'].values]).T\n",
    "# Visualize created arcs\n",
    "fig, ax = plt.subplots()\n",
    "cmap = plt.cm.rainbow\n",
    "norm = plc.Normalize(vmin=0, vmax=1.0)\n",
    "mean_nmad = np.abs(stm_arcs_selected['ens_coh'].data)\n",
    "for i in range(stm_arcs_selected.sizes[\"space\"]):\n",
    "    ax.plot(xx[i], yy[i], color=cmap(norm(mean_nmad[i])), linewidth=0.5)\n",
    "plt.title(\"Network STM arcs, colored by ens_coh\")\n",
    "plt.colorbar(plt.cm.ScalarMappable(norm=norm, cmap=cmap), ax=ax, label='ens_coh')"
   ]
  },
  {
   "cell_type": "markdown",
   "id": "cf738312",
   "metadata": {},
   "source": [
    "## Network integration"
   ]
  },
  {
   "cell_type": "markdown",
   "id": "aff67b5f",
   "metadata": {},
   "source": [
    "### Initial adjustment"
   ]
  },
  {
   "cell_type": "code",
   "execution_count": null,
   "id": "0ec7559e",
   "metadata": {},
   "outputs": [],
   "source": [
    "# Netork relation matrix A\n",
    "A_sparse = _network_relation_matrix(stm_arcs_selected[\"source\"], stm_arcs_selected[\"target\"], stm_updated.sizes[\"space\"])\n",
    "A_sparse = A_sparse.tocsr()\n",
    "A_sparse"
   ]
  },
  {
   "cell_type": "code",
   "execution_count": null,
   "id": "638b4404",
   "metadata": {},
   "outputs": [],
   "source": [
    "# Prepare stochastic model\n",
    "N_arcs = stm_arcs_selected.sizes[\"space\"]\n",
    "Qyy_diag = np.ones(N_arcs)\n",
    "invQy = scipy.sparse.diags(1/Qyy_diag, 0, shape=(N_arcs, N_arcs))\n",
    "invQy"
   ]
  },
  {
   "cell_type": "code",
   "execution_count": null,
   "id": "54b5e68c",
   "metadata": {},
   "outputs": [],
   "source": [
    "y = stm_arcs_selected['ambigs'].data\n",
    "y.shape"
   ]
  },
  {
   "cell_type": "code",
   "execution_count": null,
   "id": "86f72bad",
   "metadata": {},
   "outputs": [],
   "source": [
    "# Least square function for sparse data\n",
    "@np.vectorize(signature=\"(i)->(j)\")\n",
    "def lsmr(y):\n",
    "    x, *_ = scipy.sparse.linalg.lsmr(invQy @ A_sparse, y)\n",
    "    return x"
   ]
  },
  {
   "cell_type": "code",
   "execution_count": null,
   "id": "7407d92c",
   "metadata": {},
   "outputs": [],
   "source": [
    "# first estimation\n",
    "acheck = lsmr(y.T).T # estimated point ambiguity\n",
    "ycheck  = A_sparse @ acheck # estimated arc ambiguit\n",
    "echeck  = y - ycheck # residual arc ambiguity"
   ]
  },
  {
   "cell_type": "code",
   "execution_count": null,
   "id": "349caa1e",
   "metadata": {},
   "outputs": [],
   "source": [
    "# Plot echeck for all arcs\n",
    "# x of sources and targets\n",
    "xx = np.stack([stm_updated.isel(space = stm_arcs_selected['source'])['lon'].values,\n",
    "               stm_updated.isel(space = stm_arcs_selected['target'])['lon'].values]).T\n",
    "# y of sources and targets\n",
    "yy = np.stack([stm_updated.isel(space = stm_arcs_selected['source'])['lat'].values,\n",
    "               stm_updated.isel(space = stm_arcs_selected['target'])['lat'].values]).T\n",
    "# Visualize created arcs\n",
    "fig, ax = plt.subplots()\n",
    "cmap = plt.cm.rainbow\n",
    "norm = plc.Normalize(vmin=0, vmax=10.0)\n",
    "echeck_sum = echeck.sum(axis=1)\n",
    "for i in range(stm_arcs_selected.sizes[\"space\"]):\n",
    "    ax.plot(xx[i], yy[i], color=cmap(echeck_sum[i]), linewidth=0.5)\n",
    "plt.title(\"Network STM arcs, colored by echeck sum\")\n",
    "plt.colorbar(plt.cm.ScalarMappable(norm=norm, cmap=cmap), ax=ax, label='echeck sum')"
   ]
  },
  {
   "cell_type": "code",
   "execution_count": null,
   "id": "00b0b12d",
   "metadata": {},
   "outputs": [],
   "source": [
    "# visualize residuals\n",
    "fig, axes = plt.subplots(1,2)\n",
    "fig.set_size_inches(12, 6)\n",
    "axes[0].imshow(echeck, aspect=\"auto\", cmap=\"viridis\")\n",
    "fig.colorbar(axes[0].imshow(echeck, aspect=\"auto\", cmap=\"viridis\"), ax=axes[0])\n",
    "axes[1].hist(echeck.flatten(), bins=20)"
   ]
  },
  {
   "cell_type": "markdown",
   "id": "b1e9f6bf",
   "metadata": {},
   "source": [
    "### Overall Model Test"
   ]
  },
  {
   "cell_type": "code",
   "execution_count": null,
   "id": "1c7cc277",
   "metadata": {},
   "outputs": [],
   "source": [
    "# Decision on if the Overall Model Test is passed\n",
    "kOMT = 1e-10 # threshold\n",
    "OMT = (echeck.T @ invQy @ echeck).diagonal().sum()\n",
    "print(\"OMT:\", OMT)\n",
    "print(\"OMT > kOMT:\", OMT > kOMT) # if True, fail, need adjustment"
   ]
  },
  {
   "cell_type": "markdown",
   "id": "e2dae740",
   "metadata": {},
   "source": [
    "### Compute test statistics for rejecting arcs (TT1) or points (TTq)"
   ]
  },
  {
   "cell_type": "code",
   "execution_count": null,
   "id": "e2be3d23",
   "metadata": {},
   "outputs": [],
   "source": [
    "# Setup tests\n",
    "a0 = 0.1\n",
    "g0 = 0.5\n",
    "max_con = np.abs(A_sparse).sum(axis=0).max()\n",
    "\n",
    "kb_dict = {}\n",
    "ab_dict = {}\n",
    "\n",
    "for n_con in range(1, max_con+1):\n",
    "    lam0,k1,kb,ab = pretest(n_con, a0, g0)\n",
    "    kb_dict[n_con] = kb\n",
    "    ab_dict[n_con] = ab"
   ]
  },
  {
   "cell_type": "code",
   "execution_count": null,
   "id": "08b5bc22",
   "metadata": {},
   "outputs": [],
   "source": [
    "# Compute post-poriori Qecheck\n",
    "Qyy = scipy.sparse.diags(Qyy_diag, 0, shape=(N_arcs, N_arcs))\n",
    "invQy = scipy.sparse.diags(1/Qyy_diag, 0, shape=(N_arcs, N_arcs))\n",
    "Qxx = np.linalg.inv((A_sparse.T @ invQy @ A_sparse).todense())\n",
    "Qecheck = Qyy.diagonal() - (A_sparse @ Qxx @ A_sparse.T)\n",
    "Qecheck_diag = Qecheck.diagonal()\n",
    "Qecheck_diag = np.array(Qecheck_diag.flatten()).squeeze()\n",
    "Qecheck_diag"
   ]
  },
  {
   "cell_type": "code",
   "execution_count": null,
   "id": "63e34726",
   "metadata": {},
   "outputs": [],
   "source": [
    "# Compute TT1\n",
    "N_epochs = stm_updated.sizes[\"time\"]\n",
    "w = echeck**2 / np.tile(np.abs(Qecheck_diag), (N_epochs, 1)).T\n",
    "TT1 = np.sum(w, axis=0) / k1 **2\n",
    "TT1"
   ]
  },
  {
   "cell_type": "code",
   "execution_count": null,
   "id": "94b7fefc",
   "metadata": {},
   "outputs": [],
   "source": [
    "# Compute TTq\n",
    "TTq = np.zeros(stm_updated.sizes[\"space\"])\n",
    "for pnt_idx in range(stm_updated.sizes[\"space\"]):\n",
    "    # Get arcs connected to the point\n",
    "    arcs_idx = np.where((stm_arcs_selected['source'] == pnt_idx) | (stm_arcs_selected['target'] == pnt_idx))[0]\n",
    "\n",
    "    # Drop one arc to create basis, see e.g. verhoef97\n",
    "    arcs_idx = arcs_idx[1:]\n",
    "\n",
    "    # Get relevant echeck of this point\n",
    "    echeck_point = echeck[arcs_idx, :]\n",
    "\n",
    "    # Get relevant Qecheck_diag of this point\n",
    "    Qecheck_point = Qecheck[arcs_idx, :][:, arcs_idx]\n",
    "\n",
    "    # Compute the test statistic for this point\n",
    "    Tq =  np.sum(np.abs((echeck_point.T @ np.linalg.inv(Qecheck_point) @ echeck_point).diagonal())) ## ??? abs taken correct?\n",
    "\n",
    "    TTq[pnt_idx] = Tq/kb_dict[len(arcs_idx)]"
   ]
  },
  {
   "cell_type": "code",
   "execution_count": null,
   "id": "669ddd1b",
   "metadata": {},
   "outputs": [],
   "source": [
    "# N = A_sparse.T @ A_sparse\n",
    "# R = np.linalg.cholesky(N.todense())\n",
    "# Rinv = np.linalg.inv(R)\n",
    "# H0 = A_sparse*Rinv\n",
    "\n",
    "# Qyy_point = np.diag(Qyy_diag[arcs_idx])\n",
    "# Qee_point = Qyy_point - (H0[arcs_idx, :] @ H0[arcs_idx, :].T)\n",
    "# Qee_point"
   ]
  },
  {
   "cell_type": "code",
   "execution_count": null,
   "id": "b4c775bf",
   "metadata": {},
   "outputs": [],
   "source": [
    "# Print as decesion for rejecting arcs or points\n",
    "# When max(TT1) > max(TTq), remove arcs\n",
    "# When max(TTq) > max(TT1), remove points\n",
    "print(TT1.shape) # shape over time\n",
    "print(TTq.shape) # shape over points\n",
    "print(max(TT1)) \n",
    "print(max(TTq))"
   ]
  },
  {
   "cell_type": "markdown",
   "id": "fb532320",
   "metadata": {},
   "source": [
    "### Reject points"
   ]
  },
  {
   "cell_type": "code",
   "execution_count": null,
   "id": "849be192",
   "metadata": {},
   "outputs": [],
   "source": [
    "# Get max and index of TT1\n",
    "max_TTq = max(TTq)\n",
    "idx_pnt_remove = np.argmax(TTq)\n",
    "idx_pnt_remove"
   ]
  },
  {
   "cell_type": "code",
   "execution_count": null,
   "id": "d03059a9",
   "metadata": {},
   "outputs": [],
   "source": [
    "# Remove arcs connected to the point\n",
    "stm_arcs_selected2 = stm_arcs_selected.where(\n",
    "    (stm_arcs_selected[\"source\"] != idx_pnt_remove)\n",
    "    & (stm_arcs_selected[\"target\"] != idx_pnt_remove),\n",
    "    drop=True,\n",
    ")\n",
    "stm_arcs_selected2"
   ]
  },
  {
   "cell_type": "code",
   "execution_count": null,
   "id": "5e0372a2",
   "metadata": {},
   "outputs": [],
   "source": [
    "# Update STM and arc idx\n",
    "stm_updated2, stm_arcs_selected2 = remove_isolated_stm(stm_updated, stm_arcs_selected2)\n",
    "stm_updated2"
   ]
  },
  {
   "cell_type": "code",
   "execution_count": null,
   "id": "24d976e3",
   "metadata": {},
   "outputs": [],
   "source": [
    "# Netork relation matrix A\n",
    "A_sparse2 = _network_relation_matrix(stm_arcs_selected2[\"source\"], stm_arcs_selected2[\"target\"], stm_updated2.sizes[\"space\"])\n",
    "A_sparse2 = A_sparse2.tocsr()\n",
    "\n",
    "N_arcs = stm_arcs_selected2.sizes[\"space\"]\n",
    "Qyy_diag = np.ones(N_arcs)\n",
    "invQy = scipy.sparse.diags(1/Qyy_diag, 0, shape=(N_arcs, N_arcs))\n",
    "invQy\n",
    "\n",
    "y = stm_arcs_selected2['ambigs'].data\n",
    "# Least square function for sparse data\n",
    "@np.vectorize(signature=\"(i)->(j)\")\n",
    "def lsmr(y):\n",
    "    x, *_ = scipy.sparse.linalg.lsmr(invQy @ A_sparse2, y)\n",
    "    return x\n",
    "acheck = lsmr(y.T).T # estimated point ambiguity\n",
    "ycheck  = A_sparse2 @ acheck # estimated arc ambiguit\n",
    "echeck  = y - ycheck # residual arc ambiguity"
   ]
  },
  {
   "cell_type": "code",
   "execution_count": null,
   "id": "e433366c",
   "metadata": {},
   "outputs": [],
   "source": [
    "# Plot echeck for all arcs\n",
    "# x of sources and targets\n",
    "xx = np.stack([stm_updated.isel(space = stm_arcs_selected['source'])['lon'].values,\n",
    "               stm_updated.isel(space = stm_arcs_selected['target'])['lon'].values]).T\n",
    "# y of sources and targets\n",
    "yy = np.stack([stm_updated.isel(space = stm_arcs_selected['source'])['lat'].values,\n",
    "               stm_updated.isel(space = stm_arcs_selected['target'])['lat'].values]).T\n",
    "# Visualize created arcs\n",
    "fig, ax = plt.subplots()\n",
    "cmap = plt.cm.rainbow\n",
    "norm = plc.Normalize(vmin=0, vmax=10.0)\n",
    "echeck_sum = echeck.sum(axis=1)\n",
    "for i in range(stm_arcs_selected2.sizes[\"space\"]):\n",
    "    ax.plot(xx[i], yy[i], color=cmap(echeck_sum[i]), linewidth=0.5)\n",
    "plt.title(\"Network STM arcs, colored by echeck sum\")\n",
    "plt.colorbar(plt.cm.ScalarMappable(norm=norm, cmap=cmap), ax=ax, label='echeck sum')"
   ]
  },
  {
   "cell_type": "code",
   "execution_count": null,
   "id": "e9e24077",
   "metadata": {},
   "outputs": [],
   "source": [
    "# Decision on if the Overall Model Test is passed\n",
    "kOMT = 1e-10 # threshold\n",
    "OMT = (echeck.T @ invQy @ echeck).diagonal().sum()\n",
    "print(\"OMT:\", OMT)\n",
    "print(\"OMT > kOMT:\", OMT > kOMT) # if True, fail, need adjustment"
   ]
  },
  {
   "cell_type": "markdown",
   "id": "165063ac",
   "metadata": {},
   "source": [
    "### Reject arcs"
   ]
  },
  {
   "cell_type": "code",
   "execution_count": null,
   "id": "7db95dd8",
   "metadata": {},
   "outputs": [],
   "source": [
    "# Update statistics based on pnt rejection step\n",
    "\n",
    "# Compute post-poriori Qecheck\n",
    "Qyy = scipy.sparse.diags(Qyy_diag, 0, shape=(N_arcs, N_arcs))\n",
    "invQy = scipy.sparse.diags(1/Qyy_diag, 0, shape=(N_arcs, N_arcs))\n",
    "Qxx = np.linalg.inv((A_sparse2.T @ invQy @ A_sparse2).todense())\n",
    "Qecheck = Qyy.diagonal() - (A_sparse2 @ Qxx @ A_sparse2.T)\n",
    "Qecheck_diag = Qecheck.diagonal()\n",
    "Qecheck_diag = np.array(Qecheck_diag.flatten()).squeeze()\n",
    "\n",
    "\n",
    "# Compute TT1\n",
    "N_epochs = stm_updated.sizes[\"time\"]\n",
    "w = echeck**2 / np.tile(np.abs(Qecheck_diag), (N_epochs, 1)).T\n",
    "TT1 = np.sum(w, axis=0) / k1 **2\n",
    "\n",
    "\n",
    "# Compute TTq\n",
    "TTq = np.zeros(stm_updated2.sizes[\"space\"])\n",
    "for pnt_idx in range(stm_updated2.sizes[\"space\"]):\n",
    "    # Get arcs connected to the point\n",
    "    arcs_idx = np.where((stm_arcs_selected2['source'] == pnt_idx) | (stm_arcs_selected2['target'] == pnt_idx))[0]\n",
    "\n",
    "    # Drop one arc to create basis, see e.g. verhoef97\n",
    "    arcs_idx = arcs_idx[1:]\n",
    "\n",
    "    # Get relevant echeck of this point\n",
    "    echeck_point = echeck[arcs_idx, :]\n",
    "\n",
    "    # Get relevant Qecheck_diag of this point\n",
    "    Qecheck_point = Qecheck[arcs_idx, :][:, arcs_idx]\n",
    "\n",
    "    # Compute the test statistic for this point\n",
    "    Tq =  np.sum(np.abs((echeck_point.T @ np.linalg.inv(Qecheck_point) @ echeck_point).diagonal())) ## ??? abs taken correct?\n",
    "\n",
    "    TTq[pnt_idx] = Tq/kb_dict[len(arcs_idx)]\n",
    "\n",
    "# Although TTq > TT1 but let's still reject an arc\n",
    "print(TT1.shape) # shape over time\n",
    "print(TTq.shape) # shape over points\n",
    "print(max(TT1)) \n",
    "print(max(TTq))"
   ]
  },
  {
   "cell_type": "code",
   "execution_count": null,
   "id": "48730652",
   "metadata": {},
   "outputs": [],
   "source": [
    "max_TT1 = max(TT1)\n",
    "idx_arc_remove = np.argmax(TT1)\n",
    "idx_arc_remove"
   ]
  },
  {
   "cell_type": "code",
   "execution_count": null,
   "id": "14ad11c0",
   "metadata": {},
   "outputs": [],
   "source": [
    "stm_arcs_selected2"
   ]
  },
  {
   "cell_type": "code",
   "execution_count": null,
   "id": "a7d17f65",
   "metadata": {},
   "outputs": [],
   "source": [
    "# Remove arcs with idx idx_arc_remove\n",
    "stm_arcs_selected3 = stm_arcs_selected2.drop_isel(space=idx_arc_remove)\n",
    "\n",
    "stm_updated3, stm_arcs_selected3 = remove_isolated_stm(stm_updated, stm_arcs_selected3)\n",
    "stm_updated3"
   ]
  },
  {
   "cell_type": "code",
   "execution_count": null,
   "id": "e4f508ba",
   "metadata": {},
   "outputs": [],
   "source": [
    "y.shape"
   ]
  },
  {
   "cell_type": "code",
   "execution_count": null,
   "id": "61e22502",
   "metadata": {},
   "outputs": [],
   "source": [
    "# Network relation matrix A\n",
    "A_sparse3 = _network_relation_matrix(stm_arcs_selected3[\"source\"], stm_arcs_selected3[\"target\"], stm_updated3.sizes[\"space\"])\n",
    "A_sparse3 = A_sparse3.tocsr()\n",
    "\n",
    "N_arcs = stm_arcs_selected3.sizes[\"space\"]\n",
    "Qyy_diag = np.ones(N_arcs)\n",
    "invQy = scipy.sparse.diags(1/Qyy_diag, 0, shape=(N_arcs, N_arcs))\n",
    "invQy\n",
    "\n",
    "y = stm_arcs_selected3['ambigs'].data\n",
    "# Least square function for sparse data\n",
    "@np.vectorize(signature=\"(i)->(j)\")\n",
    "def lsmr(y):\n",
    "    x, *_ = scipy.sparse.linalg.lsmr(invQy @ A_sparse3, y)\n",
    "    return x\n",
    "acheck = lsmr(y.T).T # estimated point ambiguity\n",
    "ycheck  = A_sparse3 @ acheck # estimated arc ambiguity\n",
    "echeck  = y - ycheck # residual arc ambiguity"
   ]
  },
  {
   "cell_type": "code",
   "execution_count": null,
   "id": "6184cf35",
   "metadata": {},
   "outputs": [],
   "source": [
    "# Plot echeck for all arcs\n",
    "# x of sources and targets\n",
    "xx = np.stack([stm_updated.isel(space = stm_arcs_selected['source'])['lon'].values,\n",
    "               stm_updated.isel(space = stm_arcs_selected['target'])['lon'].values]).T\n",
    "# y of sources and targets\n",
    "yy = np.stack([stm_updated.isel(space = stm_arcs_selected['source'])['lat'].values,\n",
    "               stm_updated.isel(space = stm_arcs_selected['target'])['lat'].values]).T\n",
    "# Visualize created arcs\n",
    "fig, ax = plt.subplots()\n",
    "cmap = plt.cm.rainbow\n",
    "norm = plc.Normalize(vmin=0, vmax=10.0)\n",
    "echeck_sum = echeck.sum(axis=1)\n",
    "for i in range(stm_arcs_selected3.sizes[\"space\"]):\n",
    "    ax.plot(xx[i], yy[i], color=cmap(echeck_sum[i]), linewidth=0.5)\n",
    "plt.title(\"Network STM arcs, colored by echeck sum\")\n",
    "plt.colorbar(plt.cm.ScalarMappable(norm=norm, cmap=cmap), ax=ax, label='echeck sum')"
   ]
  },
  {
   "cell_type": "code",
   "execution_count": null,
   "id": "1f201d48",
   "metadata": {},
   "outputs": [],
   "source": [
    "# Decision on if the Overall Model Test is passed\n",
    "kOMT = 1e-10 # threshold\n",
    "OMT = (echeck.T @ invQy @ echeck).diagonal().sum()\n",
    "print(\"OMT:\", OMT)\n",
    "print(\"OMT > kOMT:\", OMT > kOMT) # if True, fail, need adjustment"
   ]
  }
 ],
 "metadata": {
  "kernelspec": {
   "display_name": "depsi-dev",
   "language": "python",
   "name": "python3"
  },
  "language_info": {
   "codemirror_mode": {
    "name": "ipython",
    "version": 3
   },
   "file_extension": ".py",
   "mimetype": "text/x-python",
   "name": "python",
   "nbconvert_exporter": "python",
   "pygments_lexer": "ipython3",
   "version": "3.12.8"
  }
 },
 "nbformat": 4,
 "nbformat_minor": 5
}
