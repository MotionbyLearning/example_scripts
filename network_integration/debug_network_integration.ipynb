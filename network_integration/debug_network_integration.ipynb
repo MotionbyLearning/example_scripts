{
 "cells": [
  {
   "cell_type": "code",
   "execution_count": null,
   "id": "dd6fc4e8",
   "metadata": {},
   "outputs": [],
   "source": [
    "import xarray as xr\n",
    "import numpy as np\n",
    "import scipy\n",
    "from scipy import stats\n",
    "from scipy.stats import chi2, ncx2\n",
    "from matplotlib import pyplot as plt\n",
    "# import matplotlib.cm as cm\n",
    "import matplotlib.colors as plc\n",
    "\n",
    "from depsi.network import form_network, arc_selection, remove_isolated_stm, _network_relation_matrix\n",
    "from depsi.arc_estimation import periodogram\n",
    "from depsi.mht_utils import pretest\n",
    "from depsi.network import _mht_network_adjustment, _solve_float_ambiguities\n",
    "\n",
    "# import dask\n",
    "# dask.config.set(scheduler='processes')"
   ]
  },
  {
   "cell_type": "code",
   "execution_count": null,
   "id": "c7feea40",
   "metadata": {},
   "outputs": [],
   "source": [
    "WAVELENGTH = 0.055465763  # Sentinel-1, in meters"
   ]
  },
  {
   "cell_type": "code",
   "execution_count": null,
   "id": "4326047c",
   "metadata": {},
   "outputs": [],
   "source": [
    "# Load all to memory\n",
    "stm = xr.open_zarr('../../data/stm_amsterdam_173p.zarr')\n",
    "\n",
    "# Remove the mother epoch\n",
    "idx_non_mother = np.squeeze(np.where(stm['h2ph_values'].mean(axis=0).values != 0)) # Mother image is with all h2ph values as 0\n",
    "stm = stm.isel(time = idx_non_mother)\n",
    "\n",
    "# For debugging, shorten the time series\n",
    "stm = stm.isel(time=slice(0, 30))\n",
    "stm"
   ]
  },
  {
   "cell_type": "code",
   "execution_count": null,
   "id": "8cef92e3",
   "metadata": {},
   "outputs": [],
   "source": [
    "stm_arcs = form_network(stm, 'sd_phase', 'h2ph_values', 'years', max_length=0.001)\n",
    "stm_arcs"
   ]
  },
  {
   "cell_type": "code",
   "execution_count": null,
   "id": "b8df082b",
   "metadata": {},
   "outputs": [],
   "source": [
    "# x of sources and targets\n",
    "xx = np.stack([stm.isel(space = stm_arcs['source'])['lon'].values,\n",
    "               stm.isel(space = stm_arcs['target'])['lon'].values]).T\n",
    "# y of sources and targets\n",
    "yy = np.stack([stm.isel(space = stm_arcs['source'])['lat'].values,\n",
    "               stm.isel(space = stm_arcs['target'])['lat'].values]).T\n",
    "# Visualize created arcs\n",
    "fig, ax = plt.subplots()\n",
    "for i in range(stm_arcs.sizes[\"space\"]):\n",
    "    ax.plot(xx[i], yy[i], color='b', linewidth=0.5)"
   ]
  },
  {
   "cell_type": "code",
   "execution_count": null,
   "id": "2050dfdc",
   "metadata": {},
   "outputs": [],
   "source": [
    "phs_obs_unwrapped, ambigs, arc_height, arc_velo, ens_coh = periodogram(\n",
    "    stm_arcs,\n",
    "    \"d_phase\",\n",
    "    \"h2ph\",\n",
    "    \"Btemp\",\n",
    "    wavelength=WAVELENGTH,\n",
    ")\n",
    "\n",
    "stm_arcs[\"phs_obs_unwrapped\"] = phs_obs_unwrapped\n",
    "stm_arcs[\"ambigs\"] = ambigs\n",
    "stm_arcs[\"arc_height\"] = arc_height\n",
    "stm_arcs[\"arc_velo\"] = arc_velo\n",
    "stm_arcs[\"ens_coh\"] = ens_coh\n",
    "\n",
    "stm_arcs = stm_arcs.compute()\n",
    "stm_arcs"
   ]
  },
  {
   "cell_type": "code",
   "execution_count": null,
   "id": "ba338e85",
   "metadata": {},
   "outputs": [],
   "source": [
    "# x of sources and targets\n",
    "xx = np.stack([stm.isel(space = stm_arcs['source'])['lon'].values,\n",
    "               stm.isel(space = stm_arcs['target'])['lon'].values]).T\n",
    "# y of sources and targets\n",
    "yy = np.stack([stm.isel(space = stm_arcs['source'])['lat'].values,\n",
    "               stm.isel(space = stm_arcs['target'])['lat'].values]).T\n",
    "# Visualize created arcs\n",
    "fig, ax = plt.subplots()\n",
    "cmap = plt.cm.rainbow\n",
    "norm = plc.Normalize(vmin=0, vmax=1.0)\n",
    "mean_nmad = np.abs(stm_arcs['ens_coh'].data)\n",
    "for i in range(stm_arcs.sizes[\"space\"]):\n",
    "    ax.plot(xx[i], yy[i], color=cmap(norm(mean_nmad[i])), linewidth=0.5)\n",
    "plt.title(\"Network STM arcs, colored by ens_coh\")\n",
    "plt.colorbar(plt.cm.ScalarMappable(norm=norm, cmap=cmap), ax=ax, label='ens_coh')"
   ]
  },
  {
   "cell_type": "code",
   "execution_count": null,
   "id": "3203c003",
   "metadata": {},
   "outputs": [],
   "source": [
    "# select arcs with ens_coh > 0.5\n",
    "stm_arcs_selected = arc_selection(stm_arcs, 0.75, 'ens_coh', 3)"
   ]
  },
  {
   "cell_type": "code",
   "execution_count": null,
   "id": "6b89adf5",
   "metadata": {},
   "outputs": [],
   "source": [
    "# x of sources and targets\n",
    "xx = np.stack([stm.isel(space = stm_arcs_selected['source'])['lon'].values,\n",
    "               stm.isel(space = stm_arcs_selected['target'])['lon'].values]).T\n",
    "# y of sources and targets\n",
    "yy = np.stack([stm.isel(space = stm_arcs_selected['source'])['lat'].values,\n",
    "               stm.isel(space = stm_arcs_selected['target'])['lat'].values]).T\n",
    "# Visualize created arcs\n",
    "fig, ax = plt.subplots()\n",
    "cmap = plt.cm.rainbow\n",
    "norm = plc.Normalize(vmin=0, vmax=1.0)\n",
    "mean_nmad = np.abs(stm_arcs_selected['ens_coh'].data)\n",
    "for i in range(stm_arcs_selected.sizes[\"space\"]):\n",
    "    ax.plot(xx[i], yy[i], color=cmap(norm(mean_nmad[i])), linewidth=0.5)\n",
    "plt.title(\"Network STM arcs, colored by ens_coh\")\n",
    "plt.colorbar(plt.cm.ScalarMappable(norm=norm, cmap=cmap), ax=ax, label='ens_coh')"
   ]
  },
  {
   "cell_type": "code",
   "execution_count": null,
   "id": "6eced8e8",
   "metadata": {},
   "outputs": [],
   "source": [
    "# Update the STM and selected arcs\n",
    "# Remove isolated STM\n",
    "# Update indices\n",
    "stm_updated, stm_arcs_selected = remove_isolated_stm(stm, stm_arcs_selected)"
   ]
  },
  {
   "cell_type": "markdown",
   "id": "cf738312",
   "metadata": {},
   "source": [
    "## Network integration"
   ]
  },
  {
   "cell_type": "markdown",
   "id": "aff67b5f",
   "metadata": {},
   "source": [
    "### Initial adjustment"
   ]
  },
  {
   "cell_type": "code",
   "execution_count": null,
   "id": "0ec7559e",
   "metadata": {},
   "outputs": [],
   "source": [
    "# Netork relation matrix A\n",
    "A_sparse = _network_relation_matrix(stm_arcs_selected[\"source\"], stm_arcs_selected[\"target\"], stm_updated.sizes[\"space\"])\n",
    "\n",
    "# Observations y\n",
    "y = stm_arcs_selected['ambigs'].data\n",
    "\n",
    "# Prepare stochastic model\n",
    "N_arcs = stm_arcs_selected.sizes[\"space\"]\n",
    "Qyy_diag = np.ones(N_arcs)\n",
    "invQy = scipy.sparse.diags(1/Qyy_diag, 0, shape=(N_arcs, N_arcs))\n",
    "\n",
    "# First estimation\n",
    "_, echeck = _solve_float_ambiguities(A_sparse, y, invQy)"
   ]
  },
  {
   "cell_type": "code",
   "execution_count": null,
   "id": "5c1aff20",
   "metadata": {},
   "outputs": [],
   "source": [
    "# Overall Model Test\n",
    "kOMT = 1e-10 # threshold\n",
    "OMT = (echeck.T @ invQy @ echeck).diagonal().sum()\n",
    "print(\"OMT:\", OMT)\n",
    "print(\"OMT > kOMT:\", OMT > kOMT) # if True, fail, need adjustment"
   ]
  },
  {
   "cell_type": "code",
   "execution_count": null,
   "id": "5122bac7",
   "metadata": {},
   "outputs": [],
   "source": [
    "# Setup tests\n",
    "a0 = 0.1\n",
    "g0 = 0.5\n",
    "max_con = np.abs(A_sparse).sum(axis=0).max()\n",
    "\n",
    "kb_dict = {}\n",
    "\n",
    "for n_con in range(1, max_con+1):\n",
    "    _, k1, kb, _ = pretest(n_con, a0, g0)\n",
    "    kb_dict[n_con] = kb"
   ]
  },
  {
   "cell_type": "code",
   "execution_count": null,
   "id": "349caa1e",
   "metadata": {},
   "outputs": [],
   "source": [
    "def visualize_network_echeck(pnt, arcs, echeck):\n",
    "    # Plot echeck for all arcs\n",
    "    # x of sources and targets\n",
    "    xx = np.stack([pnt.isel(space = arcs['source'])['lon'].values,\n",
    "                pnt.isel(space = arcs['target'])['lon'].values]).T\n",
    "    # y of sources and targets\n",
    "    yy = np.stack([pnt.isel(space = arcs['source'])['lat'].values,\n",
    "                pnt.isel(space = arcs['target'])['lat'].values]).T\n",
    "    # Visualize created arcs\n",
    "    fig, ax = plt.subplots()\n",
    "    cmap = plt.cm.rainbow\n",
    "    norm = plc.Normalize(vmin=0, vmax=10.0)\n",
    "    echeck_sum = echeck.sum(axis=1)\n",
    "    for i in range(arcs.sizes[\"space\"]):\n",
    "        ax.plot(xx[i], yy[i], color=cmap(echeck_sum[i]), linewidth=0.5)\n",
    "    plt.title(\"Network STM arcs, colored by echeck sum\")\n",
    "    plt.colorbar(plt.cm.ScalarMappable(norm=norm, cmap=cmap), ax=ax, label='echeck sum')"
   ]
  },
  {
   "cell_type": "code",
   "execution_count": null,
   "id": "e3a860de",
   "metadata": {},
   "outputs": [],
   "source": [
    "niter = 0\n",
    "max_iter = 10\n",
    "while OMT > kOMT and niter < max_iter:\n",
    "    # In the loop, OMT fail\n",
    "    # Choose from two Ha: 1) remove an arc; 2) remove a point\n",
    "    flag_rm, idx_rm = _mht_network_adjustment(A_sparse, y, Qyy_diag, k1, kb_dict)\n",
    "\n",
    "    if flag_rm == 0:  # remove arcs\n",
    "        stm_arcs_selected = stm_arcs_selected.drop_isel(space=idx_rm)  # Remove the arc\n",
    "        stm_updated, stm_arcs_selected = remove_isolated_stm(\n",
    "            stm_updated, stm_arcs_selected\n",
    "        )  # Remove isolated points and update idx\n",
    "        Qyy_diag = np.delete(Qyy_diag, idx_rm)  # Remove the corresponding Qyy entry\n",
    "    elif flag_rm == 1:  # remove points\n",
    "        # Remove all arcs connects to the point to remove\n",
    "        idx_arcs_selected = np.where(\n",
    "            (\n",
    "                (stm_arcs_selected[\"source\"] != idx_rm)\n",
    "                & (stm_arcs_selected[\"target\"] != idx_rm)\n",
    "            ).data\n",
    "        )[0]  # Arc indices in the previous arc stm for selection\n",
    "        stm_arcs_selected = stm_arcs_selected.isel(space=idx_arcs_selected)\n",
    "\n",
    "        # Remove isolated points and update idx\n",
    "        stm_updated, stm_arcs_selected = remove_isolated_stm(\n",
    "            stm_updated, stm_arcs_selected\n",
    "        )\n",
    "        Qyy_diag = Qyy_diag[idx_arcs_selected]  # Select the corresponding Qyy entries\n",
    "\n",
    "    # Update the functional and stochastic model\n",
    "    N_arcs = stm_arcs_selected.sizes[\"space\"]\n",
    "    A_sparse = _network_relation_matrix(\n",
    "        stm_arcs_selected[\"source\"],\n",
    "        stm_arcs_selected[\"target\"],\n",
    "        stm_updated.sizes[\"space\"],\n",
    "    )\n",
    "    y = stm_arcs_selected[\"ambigs\"].data\n",
    "    invQy = scipy.sparse.diags(1 / Qyy_diag, 0, shape=(N_arcs, N_arcs))\n",
    "\n",
    "    # Estimate residual again\n",
    "    _, echeck = _solve_float_ambiguities(A_sparse, y, invQy)\n",
    "\n",
    "    OMT = (echeck.T @ invQy @ echeck).diagonal().sum()\n",
    "\n",
    "    niter += 1\n",
    "    print(\n",
    "        f\"Iteration {niter}: OMT = {OMT}, flag_rm: {flag_rm}, OMT > kOMT: {OMT > kOMT}\"\n",
    "    )\n",
    "\n",
    "    visualize_network_echeck(stm_updated, stm_arcs_selected, echeck)\n"
   ]
  },
  {
   "cell_type": "code",
   "execution_count": null,
   "id": "407e358f",
   "metadata": {},
   "outputs": [],
   "source": [
    "echeck"
   ]
  }
 ],
 "metadata": {
  "kernelspec": {
   "display_name": "depsi-dev",
   "language": "python",
   "name": "python3"
  },
  "language_info": {
   "codemirror_mode": {
    "name": "ipython",
    "version": 3
   },
   "file_extension": ".py",
   "mimetype": "text/x-python",
   "name": "python",
   "nbconvert_exporter": "python",
   "pygments_lexer": "ipython3",
   "version": "3.12.8"
  }
 },
 "nbformat": 4,
 "nbformat_minor": 5
}
