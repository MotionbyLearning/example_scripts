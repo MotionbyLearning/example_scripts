{
 "cells": [
  {
   "cell_type": "code",
   "execution_count": 1,
   "id": "dd6fc4e8",
   "metadata": {},
   "outputs": [],
   "source": [
    "import matplotlib.pyplot as plt\n",
    "import numpy as np\n",
    "import scipy.sparse"
   ]
  },
  {
   "cell_type": "markdown",
   "id": "9dd41ba3",
   "metadata": {},
   "source": [
    "## Setup Experiments"
   ]
  },
  {
   "cell_type": "code",
   "execution_count": 2,
   "id": "e2cd65ef",
   "metadata": {},
   "outputs": [],
   "source": [
    "# N_points = 10_000\n",
    "# N_arcs = 100_000 \n",
    "# N_time = 100\n",
    "N_points = 500\n",
    "N_arcs = 5000\n",
    "N_time = 50\n",
    "\n",
    "# Arcs start- and end-points\n",
    "xindex = np.arange(N_arcs)\n",
    "yidx_start = np.random.randint(0, N_points, size=N_arcs)\n",
    "shift = np.random.randint(1, N_points, size=N_arcs)\n",
    "yidx_end = (yidx_start + shift) % N_points\n",
    "\n",
    "# y - arc ambiguities \n",
    "# Assuming 5% of +1 and 5% of -1 \n",
    "y = np.random.choice([-1, 0, 1], (N_arcs, N_time), p=[0.05, 0.90, 0.05])"
   ]
  },
  {
   "cell_type": "markdown",
   "id": "c27c2418-c082-46be-b32c-62c28b1013fa",
   "metadata": {},
   "source": [
    "## 1. Numpy via matrix inversion"
   ]
  },
  {
   "cell_type": "markdown",
   "id": "861d6aa6-e30a-4287-96a8-1180db2ba5c0",
   "metadata": {},
   "source": [
    "Setup the matrix as a (dense) numpy array:"
   ]
  },
  {
   "cell_type": "code",
   "execution_count": 3,
   "id": "7ec956a3-321e-4880-abbf-39afb0d8b447",
   "metadata": {},
   "outputs": [],
   "source": [
    "# A - design matrix, in \"dense\" form\n",
    "A = np.zeros((N_arcs, N_points), dtype=int)\n",
    "A[xindex, yidx_end] = 1\n",
    "A[xindex, yidx_start] = -1"
   ]
  },
  {
   "cell_type": "markdown",
   "id": "8da1dcf7-f662-406d-9324-840102551261",
   "metadata": {},
   "source": [
    "Trying to solve the problem \"directly\" via matrix inversion of $A^T A$:\n",
    "\n",
    "$$x = (A^T A)^{-1} A^T y$$"
   ]
  },
  {
   "cell_type": "code",
   "execution_count": 4,
   "id": "6a28fe97-b28a-44f6-ba6d-e4ba7f267f62",
   "metadata": {},
   "outputs": [
    {
     "name": "stdout",
     "output_type": "stream",
     "text": [
      "CPU times: user 6.08 s, sys: 112 ms, total: 6.19 s\n",
      "Wall time: 5.81 s\n"
     ]
    }
   ],
   "source": [
    "%%time\n",
    "x_1 = np.linalg.inv(A.T @ A) @ A.T @ y"
   ]
  },
  {
   "cell_type": "code",
   "execution_count": 5,
   "id": "e3ee7d75-bb92-463d-9fef-b2d0102d1d51",
   "metadata": {},
   "outputs": [
    {
     "data": {
      "text/plain": [
       "(500, 50)"
      ]
     },
     "execution_count": 5,
     "metadata": {},
     "output_type": "execute_result"
    }
   ],
   "source": [
    "x_1.shape"
   ]
  },
  {
   "cell_type": "markdown",
   "id": "604bb525-971e-4720-8dbc-b6e3cf411a51",
   "metadata": {},
   "source": [
    "Plot the histogram of all values, to compare with other solutions:"
   ]
  },
  {
   "cell_type": "code",
   "execution_count": 6,
   "id": "28b1a897-e8a4-4115-ac13-a4e51f96923b",
   "metadata": {},
   "outputs": [
    {
     "data": {
      "text/plain": [
       "(-1.0, 1.0)"
      ]
     },
     "execution_count": 6,
     "metadata": {},
     "output_type": "execute_result"
    },
    {
     "data": {
      "image/png": "[encoded data removed]",
      "text/plain": [
       "<Figure size 640x480 with 1 Axes>"
      ]
     },
     "metadata": {},
     "output_type": "display_data"
    }
   ],
   "source": [
    "plt.hist(x_1.flatten(), bins=50)\n",
    "plt.xlim([-1, 1])"
   ]
  },
  {
   "cell_type": "markdown",
   "id": "f4c37c97-afd7-4951-ad13-345ab4aeee5b",
   "metadata": {},
   "source": [
    "This approach suffers from numerical noise due to the matrix inversion step:"
   ]
  },
  {
   "cell_type": "code",
   "execution_count": 7,
   "id": "c649098c-af80-4892-a997-81d583bbb150",
   "metadata": {},
   "outputs": [],
   "source": [
    "N = A.T @ A\n",
    "N_inv = np.linalg.inv(N)"
   ]
  },
  {
   "cell_type": "code",
   "execution_count": 8,
   "id": "7ddf8199-1992-4ca2-b8d8-9148e858ccfe",
   "metadata": {},
   "outputs": [
    {
     "data": {
      "text/plain": [
       "array([[ 0.9375  ,  0.0625  , -0.03125 , ..., -0.03125 ,  0.03125 ,\n",
       "         0.      ],\n",
       "       [-0.125   ,  1.0625  ,  0.03125 , ...,  0.015625,  0.109375,\n",
       "         0.      ],\n",
       "       [-0.09375 ,  0.0625  ,  0.96875 , ..., -0.015625,  0.03125 ,\n",
       "        -0.0625  ],\n",
       "       ...,\n",
       "       [-0.03125 ,  0.0625  ,  0.09375 , ...,  1.046875,  0.03125 ,\n",
       "         0.      ],\n",
       "       [-0.125   ,  0.03125 ,  0.03125 , ...,  0.015625,  1.046875,\n",
       "        -0.0625  ],\n",
       "       [-0.09375 ,  0.0625  , -0.0625  , ...,  0.03125 , -0.015625,\n",
       "         0.9375  ]], shape=(500, 500))"
      ]
     },
     "execution_count": 8,
     "metadata": {},
     "output_type": "execute_result"
    }
   ],
   "source": [
    "# This should be equal to the identity matrix, but there is clearly\n",
    "# numerical noise\n",
    "N_inv @ N "
   ]
  },
  {
   "cell_type": "markdown",
   "id": "78302207-3617-4e07-8b18-2d4f554fcdd8",
   "metadata": {},
   "source": [
    "## 2. Numpy least-square solution\n",
    "\n",
    "Numpy implements solvers for linears systems of the form `Ax = b`:\n",
    "- `np.linalg.solve` only works for square, full-rank matrices.\n",
    "- For other systems, one can find (approximate) least-squares solution via `np.linalg.lstsq`"
   ]
  },
  {
   "cell_type": "code",
   "execution_count": 9,
   "id": "31067878-0b1f-4e5f-ad56-86a423a611bc",
   "metadata": {},
   "outputs": [
    {
     "name": "stdout",
     "output_type": "stream",
     "text": [
      "CPU times: user 1.45 s, sys: 58.7 ms, total: 1.51 s\n",
      "Wall time: 203 ms\n"
     ]
    }
   ],
   "source": [
    "%%time\n",
    "x_2, residuals, rank, s = np.linalg.lstsq(A, y)"
   ]
  },
  {
   "cell_type": "markdown",
   "id": "b61d9db3-cbef-4e80-9c52-0b9b90f9360f",
   "metadata": {},
   "source": [
    "This is significantly faster than the previous approach. "
   ]
  },
  {
   "cell_type": "code",
   "execution_count": 10,
   "id": "ceadebab-89a5-41ce-893c-12d33d7bc5cd",
   "metadata": {},
   "outputs": [
    {
     "data": {
      "text/plain": [
       "(500, 50)"
      ]
     },
     "execution_count": 10,
     "metadata": {},
     "output_type": "execute_result"
    }
   ],
   "source": [
    "x_2.shape"
   ]
  },
  {
   "cell_type": "markdown",
   "id": "0ff6e69c-498f-4ba5-bacc-d0edcc7f52c4",
   "metadata": {},
   "source": [
    "The distribution of the values is somewhat different from the one obtained earlier (this is clearer for smaller `N_*` values, where one sees the distribution is sharper - does this mean the numerical accuracy is higher?)"
   ]
  },
  {
   "cell_type": "code",
   "execution_count": 11,
   "id": "e2741b23-9d9c-4284-9469-aa81e50a5b59",
   "metadata": {},
   "outputs": [
    {
     "data": {
      "text/plain": [
       "(-1.0, 1.0)"
      ]
     },
     "execution_count": 11,
     "metadata": {},
     "output_type": "execute_result"
    },
    {
     "data": {
      "image/png": "[encoded data removed]",
      "text/plain": [
       "<Figure size 640x480 with 1 Axes>"
      ]
     },
     "metadata": {},
     "output_type": "display_data"
    }
   ],
   "source": [
    "plt.hist(x_2.flatten(), bins=50)\n",
    "plt.xlim([-1, 1])"
   ]
  },
  {
   "cell_type": "markdown",
   "id": "f5007804-0a87-4b48-9fbe-c771d0517e6b",
   "metadata": {},
   "source": [
    "## Solution 3: Scipy sparse matrices\n",
    "\n",
    "We can then setup a similar least-squares solution using [Scipy's support for sparse matrices](https://docs.scipy.org/doc/scipy/reference/sparse.html). We setup the A matrix as a sparse matrix using `scipy.sparse`. We use this library rather than [sparse](https://sparse.pydata.org/en/stable/) since Scipy also implements linear algebra solvers such as least-squares optimizers."
   ]
  },
  {
   "cell_type": "code",
   "execution_count": 12,
   "id": "c6d7f27d-f0aa-4df4-a64c-a44059f18d43",
   "metadata": {},
   "outputs": [],
   "source": [
    "# A - design matrix, in \"sparse\" form\n",
    "end = scipy.sparse.coo_array((np.ones_like(xindex), (xindex, yidx_end)))\n",
    "start = scipy.sparse.coo_array((-np.ones_like(xindex), (xindex, yidx_start)))\n",
    "A_sparse = start + end"
   ]
  },
  {
   "cell_type": "code",
   "execution_count": 13,
   "id": "706b8691-71c0-4647-86f9-c17b8efe050d",
   "metadata": {},
   "outputs": [],
   "source": [
    "# Verify the sparse matrix is equivalent to its dense counterpart\n",
    "assert np.allclose(A_sparse.todense(), A), \"Problem in setting up sparse matrix\""
   ]
  },
  {
   "cell_type": "markdown",
   "id": "2a388ed0-bf3f-4125-b620-b834298bda98",
   "metadata": {},
   "source": [
    "The sparse solver `scipy.sparse.linalg.lsmr` only accepts single-column coefficients, so one needs to \"loop\" over the columns of $y$ (the time axis):"
   ]
  },
  {
   "cell_type": "code",
   "execution_count": 14,
   "id": "b2a0f316-277c-40f2-804a-b8c652d04f06",
   "metadata": {},
   "outputs": [],
   "source": [
    "@np.vectorize(signature=\"(i)->(j)\")\n",
    "def lsmr(y):\n",
    "    x, *_ = scipy.sparse.linalg.lsmr(A_sparse, y)\n",
    "    return x"
   ]
  },
  {
   "cell_type": "code",
   "execution_count": 15,
   "id": "1510a37b-09ce-4118-bc5f-7dc2f40332f6",
   "metadata": {},
   "outputs": [
    {
     "name": "stdout",
     "output_type": "stream",
     "text": [
      "CPU times: user 89.3 ms, sys: 12.1 ms, total: 101 ms\n",
      "Wall time: 101 ms\n"
     ]
    }
   ],
   "source": [
    "%%time\n",
    "x_3 = lsmr(y.T).T  # double traspose should be fixed.."
   ]
  },
  {
   "cell_type": "markdown",
   "id": "95354777-d9ed-41a8-8c56-9d72db153421",
   "metadata": {},
   "source": [
    "The solution has some numerical differences with respect to the \"dense\" solution, but overall small:"
   ]
  },
  {
   "cell_type": "code",
   "execution_count": 16,
   "id": "4c574f6e-6d33-452b-a0f6-9867594c0285",
   "metadata": {},
   "outputs": [
    {
     "data": {
      "text/plain": [
       "np.True_"
      ]
     },
     "execution_count": 16,
     "metadata": {},
     "output_type": "execute_result"
    }
   ],
   "source": [
    "# np.allclose(x_1, x_2)  # This returns \"False\"\n",
    "np.all((x_3 - x_2) < 1.e-4)"
   ]
  },
  {
   "cell_type": "markdown",
   "id": "a29f0739-8c2c-4eeb-979b-84aa148a087e",
   "metadata": {},
   "source": [
    "This turns out to be the fastest approach! And even with the following input parameters it takes < 3 secs."
   ]
  },
  {
   "cell_type": "code",
   "execution_count": 17,
   "id": "dd617995-f813-4e5b-9b18-b0ecd6b36053",
   "metadata": {},
   "outputs": [],
   "source": [
    "N_points = 10_000\n",
    "N_arcs = 100_000 \n",
    "N_time = 100"
   ]
  }
 ],
 "metadata": {
  "kernelspec": {
   "display_name": "Python 3 (ipykernel)",
   "language": "python",
   "name": "python3"
  },
  "language_info": {
   "codemirror_mode": {
    "name": "ipython",
    "version": 3
   },
   "file_extension": ".py",
   "mimetype": "text/x-python",
   "name": "python",
   "nbconvert_exporter": "python",
   "pygments_lexer": "ipython3",
   "version": "3.13.5"
  }
 },
 "nbformat": 4,
 "nbformat_minor": 5
}
