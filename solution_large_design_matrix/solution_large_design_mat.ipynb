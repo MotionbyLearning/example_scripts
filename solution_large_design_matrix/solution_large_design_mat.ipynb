{
 "cells": [
  {
   "cell_type": "markdown",
   "id": "a3a3072a",
   "metadata": {},
   "source": [
    "# Handle large design matrix A in network intergration\n",
    "\n",
    "This notebook propose a solution mainly based on [`scipy.sparse.linalg.lsmr`](https://docs.scipy.org/doc/scipy/reference/generated/scipy.sparse.linalg.lsmr.html)."
   ]
  },
  {
   "cell_type": "code",
   "execution_count": null,
   "id": "dd6fc4e8",
   "metadata": {},
   "outputs": [],
   "source": [
    "import matplotlib.pyplot as plt\n",
    "import numpy as np\n",
    "import scipy.sparse\n",
    "import xarray as xr\n",
    "import dask.array as da\n",
    "from matplotlib import pyplot as plt\n",
    "\n",
    "from depsi.network import form_network"
   ]
  },
  {
   "cell_type": "markdown",
   "id": "9dd41ba3",
   "metadata": {},
   "source": [
    "## Setup Experiments\n",
    "\n",
    "Here we simulate an network STM and for network from it.\n",
    "\n",
    "To generate sensible arc amibuities, we also simulate the ambiguity of the network STM and generate arc ambiguities from it."
   ]
  },
  {
   "cell_type": "code",
   "execution_count": null,
   "id": "e2cd65ef",
   "metadata": {},
   "outputs": [],
   "source": [
    "N_points = 3000\n",
    "N_time = 50"
   ]
  },
  {
   "cell_type": "code",
   "execution_count": null,
   "id": "128ab78d",
   "metadata": {},
   "outputs": [],
   "source": [
    "# Generate an STM with points and arcs\n",
    "# Simulate ambiguities directly\n",
    "# Phase and h2ph are simultated to form arcs but not used\n",
    "stm = xr.Dataset(\n",
    "    coords={\n",
    "        \"space\": ([\"space\"], np.arange(N_points)),\n",
    "        \"time\": ([\"time\"], np.arange(N_time)),\n",
    "        \"x\": ([\"space\"], np.random.uniform(0, 100, N_points)),\n",
    "        \"y\": ([\"space\"], np.random.uniform(0, 100, N_points)),\n",
    "    },\n",
    "    data_vars={\n",
    "        \"phase\": ([\"space\", \"time\"], da.random.uniform(0, 1, (N_points, N_time))),\n",
    "        \"h2ph\": ([\"space\", \"time\"], da.random.uniform(0, 1, (N_points, N_time))),\n",
    "        \"ambiguity\": ([\"space\", \"time\"], np.random.choice([-1, 0, 1], (N_points, N_time), p=[0.02, 0.96, 0.02])),\n",
    "    },\n",
    ")\n",
    "\n",
    "stm"
   ]
  },
  {
   "cell_type": "code",
   "execution_count": null,
   "id": "95b98da8",
   "metadata": {},
   "outputs": [],
   "source": [
    "# Form the network from the STM\n",
    "# This takes ~30s for 3000 points\n",
    "arcs = form_network(\n",
    "    stm,\n",
    "    key_phase = \"phase\",\n",
    "    key_h2ph = \"h2ph\",\n",
    "    key_Btemp = \"time\",\n",
    "    key_xlabel = \"x\",\n",
    "    key_ylabel = \"y\",\n",
    "    max_length = 3.0\n",
    ")\n",
    "\n",
    "arcs"
   ]
  },
  {
   "cell_type": "code",
   "execution_count": null,
   "id": "3e360441",
   "metadata": {},
   "outputs": [],
   "source": [
    "# Arcs start- and end-points\n",
    "N_arcs = arcs.sizes[\"space\"]\n",
    "xindex = np.arange(N_arcs)\n",
    "yidx_start = arcs[\"source\"].values\n",
    "yidx_end = arcs[\"target\"].values\n",
    "\n",
    "# Create a y represents the difference in ambiguity\n",
    "# Since y is created directly from the STM, it is supposed to be error free\n",
    "y = stm[\"ambiguity\"].isel(space=yidx_end).values - stm[\"ambiguity\"].isel(space=yidx_start).values\n",
    "y_noisy = y + np.random.choice([-1, 0, 1], y.shape, p=[0.002, 0.996, 0.002]) # Add some minor to the y values"
   ]
  },
  {
   "cell_type": "code",
   "execution_count": null,
   "id": "db78cbf4",
   "metadata": {},
   "outputs": [],
   "source": [
    "# Visualize ambiguitis of the first 50 arcs\n",
    "fig, ax = plt.subplots(figsize=(10, 5))\n",
    "ax.imshow(y[:50])\n",
    "ax.set_aspect(\"auto\")"
   ]
  },
  {
   "cell_type": "code",
   "execution_count": null,
   "id": "c6d7f27d-f0aa-4df4-a64c-a44059f18d43",
   "metadata": {},
   "outputs": [],
   "source": [
    "# Create the design matrix A in sparse\n",
    "end = scipy.sparse.coo_array((np.ones_like(xindex), (xindex, yidx_end)), shape=(N_arcs, N_points))\n",
    "start = scipy.sparse.coo_array((-np.ones_like(xindex), (xindex, yidx_start)), shape=(N_arcs, N_points))\n",
    "A_sparse = start + end\n",
    "A_sparse"
   ]
  },
  {
   "cell_type": "code",
   "execution_count": null,
   "id": "706b8691-71c0-4647-86f9-c17b8efe050d",
   "metadata": {},
   "outputs": [],
   "source": [
    "# # Only when number of arcs is small\n",
    "# # Verify the sparse matrix is equivalent to its dense counterpart\n",
    "# A = np.zeros((N_arcs, N_points), dtype=int)\n",
    "# A[xindex, yidx_end] = 1\n",
    "# A[xindex, yidx_start] = -1\n",
    "\n",
    "# assert np.allclose(A_sparse.todense(), A), \"Problem in setting up sparse matrix\""
   ]
  },
  {
   "cell_type": "code",
   "execution_count": null,
   "id": "b2a0f316-277c-40f2-804a-b8c652d04f06",
   "metadata": {},
   "outputs": [],
   "source": [
    "# design a vectorized function to solve each column of y separately\n",
    "# Essentially, this is a looping over time but since the time dimension is not large\n",
    "@np.vectorize(signature=\"(i)->(j)\")\n",
    "def lsmr(y, tol=1.e-10):\n",
    "    x, *_ = scipy.sparse.linalg.lsmr(A_sparse, y, atol=tol, btol=tol)\n",
    "    return x"
   ]
  },
  {
   "cell_type": "code",
   "execution_count": null,
   "id": "1510a37b-09ce-4118-bc5f-7dc2f40332f6",
   "metadata": {},
   "outputs": [],
   "source": [
    "%%time\n",
    "x = lsmr(y.T).T  # double traspose should be fixed.."
   ]
  },
  {
   "cell_type": "code",
   "execution_count": null,
   "id": "a54587c8",
   "metadata": {},
   "outputs": [],
   "source": [
    "%%time\n",
    "x_noisy = lsmr(y_noisy.T).T  # double traspose should be fixed.."
   ]
  },
  {
   "cell_type": "code",
   "execution_count": null,
   "id": "7be561d9",
   "metadata": {},
   "outputs": [],
   "source": [
    "# All elements in e is supposed to be close to zero, since y is error free\n",
    "e = A_sparse @ x - y\n",
    "np.max(np.abs(e))\n",
    "np.allclose(e, 0.0, atol=1.e-6)"
   ]
  },
  {
   "cell_type": "code",
   "execution_count": null,
   "id": "eba69b6c",
   "metadata": {},
   "outputs": [],
   "source": [
    "# All elements in e is supposed to be close to zero, since y is error free\n",
    "e_noisy = A_sparse @ x - y_noisy\n",
    "print(np.max(np.abs(e_noisy)))\n",
    "print(e_noisy)"
   ]
  },
  {
   "cell_type": "markdown",
   "id": "6dd6c3ac",
   "metadata": {},
   "source": [
    "## When y is not equally weighted\n",
    "functional model: \n",
    "```math\n",
    "y = Ax\n",
    "```\n",
    "\n",
    "stochastic model:\n",
    "```math\n",
    "D\\{y\\} = Q_{yy} \n",
    "```\n",
    "where diagnal elements of Qyy are varainces, off-diagonal elements are covariances.\n",
    "\n",
    "Given cholesky decomposition of Qyy:\n",
    "```math\n",
    "Q_{yy} = L L^T\n",
    "```\n",
    "\n",
    "To use the `scipy.sparse.linalg.lsmr` function with Qyy, we can generalize the functional model to:\n",
    "```math\n",
    "L^{-1} y = L^{-1} A x\n",
    "```\n",
    "\n",
    "Solving the above Linear system is equivalent to solving the original functional model with the covariance matrix Qyy.\n",
    "\n",
    "### General computation of $L^{-1}$\n",
    "\n",
    "Mark $F_{chole}$ as cholesky decomposition operation:\n",
    "```math\n",
    "F_{chole} (Q_{yy}) = L\n",
    "```\n",
    "\n",
    "Then since:\n",
    "```math\n",
    "Q_{yy}^{-1} = (L L^T)^{-1} = (L^{-1})^{T} L^{-1}\n",
    "```\n",
    "\n",
    "Therefore, \n",
    "```math\n",
    "F_{chole} (Q_{yy}^{-1}) = (L^{-1})^T\n",
    "```\n",
    "\n",
    "Then for any Q_{yy}^{-1} we can get $L^{-1}$ as:\n",
    "```math\n",
    "L^{-1} = (F_{chole} (Q_{yy}^{-1}))^{T}\n",
    "```\n",
    "\n",
    "### In case observations in $y$ are independent\n",
    "\n",
    "In many cases y are independent, so Qyy is diagonal. Therefore we can easily compute $L^{-1}$ as:\n",
    "```math\n",
    "L^{-1} = diag(Q_{yy}^{-1})^{1/2}\n",
    "```\n",
    "\n",
    "In other words, $L^{-1}$ is a diagonal matrix with elements being the square root of the inverse of the diagonal elements of Qyy. "
   ]
  },
  {
   "cell_type": "markdown",
   "id": "21119a34",
   "metadata": {},
   "source": [
    "### When $y$ is independent"
   ]
  },
  {
   "cell_type": "code",
   "execution_count": null,
   "id": "dd617995-f813-4e5b-9b18-b0ecd6b36053",
   "metadata": {},
   "outputs": [],
   "source": [
    "# For now, we can consider a uncorrelated y\n",
    "# This means Qyy is a diagonal matrix\n",
    "Qyy_diag = np.random.uniform(0.8, 0.99, N_arcs) # diagonal components\n",
    "L_inv = scipy.sparse.diags(1 / np.sqrt(Qyy_diag), 0, shape=(N_arcs, N_arcs))\n",
    "L_inv"
   ]
  },
  {
   "cell_type": "code",
   "execution_count": null,
   "id": "c6e34795",
   "metadata": {},
   "outputs": [],
   "source": [
    "@np.vectorize(signature=\"(i)->(j)\")\n",
    "def lsmr(y):\n",
    "    x, *_ = scipy.sparse.linalg.lsmr(L_inv@A_sparse, y)\n",
    "    return x"
   ]
  },
  {
   "cell_type": "code",
   "execution_count": null,
   "id": "f08a31bf",
   "metadata": {},
   "outputs": [],
   "source": [
    "%%time\n",
    "x = lsmr((L_inv @ y).T).T  # double traspose should be fixed.."
   ]
  },
  {
   "cell_type": "markdown",
   "id": "2c1fcb05",
   "metadata": {},
   "source": [
    "### When $y$ is not independent (Doesn't work yet)\n",
    "\n",
    "Below is a quick example with dask. But turned out hard to create a case where $Q_{yy}^{-1}$ is cholesky decomposable. "
   ]
  },
  {
   "cell_type": "code",
   "execution_count": null,
   "id": "fb9f2c90",
   "metadata": {},
   "outputs": [],
   "source": [
    "# Qyy_diag = da.random.uniform(0.8, 0.99, N_arcs) # diagonal components\n",
    "# Qyy = da.diag(Qyy_diag)\n",
    "# Qyy_inv_off_diag = da.random.uniform(0.01,0.1, (N_arcs, N_arcs))  # off-diagonal components\n",
    "# Qyy_inv = da.linalg.inv(Qyy) + Qyy_inv_off_diag\n",
    "# L_inv = da.linalg.cholesky(Qyy_inv)\n",
    "# L_inv"
   ]
  },
  {
   "cell_type": "code",
   "execution_count": null,
   "id": "809b8c1c",
   "metadata": {},
   "outputs": [],
   "source": [
    "# @np.vectorize(signature=\"(i)->(j)\")\n",
    "# def lsmr(y):\n",
    "#     x, *_ = scipy.sparse.linalg.lsmr(L_inv@A_sparse, y)\n",
    "#     return x"
   ]
  },
  {
   "cell_type": "code",
   "execution_count": null,
   "id": "85c87a81",
   "metadata": {},
   "outputs": [],
   "source": [
    "# %%time\n",
    "# x = lsmr((L_inv @ y).T).T  # double traspose should be fixed.."
   ]
  },
  {
   "cell_type": "code",
   "execution_count": null,
   "id": "aac60274",
   "metadata": {},
   "outputs": [],
   "source": []
  }
 ],
 "metadata": {
  "kernelspec": {
   "display_name": "depsi-dev",
   "language": "python",
   "name": "python3"
  },
  "language_info": {
   "codemirror_mode": {
    "name": "ipython",
    "version": 3
   },
   "file_extension": ".py",
   "mimetype": "text/x-python",
   "name": "python",
   "nbconvert_exporter": "python",
   "pygments_lexer": "ipython3",
   "version": "3.12.8"
  }
 },
 "nbformat": 4,
 "nbformat_minor": 5
}
